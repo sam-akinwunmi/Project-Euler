{
 "cells": [
  {
   "cell_type": "code",
   "execution_count": 7,
   "metadata": {
    "collapsed": false
   },
   "outputs": [
    {
     "name": "stdout",
     "output_type": "stream",
     "text": [
      "906609\n"
     ]
    }
   ],
   "source": [
    "numbers_one = range(1,1000)\n",
    "numbers_two = range(1,1000)\n",
    "\n",
    "pal = 0\n",
    "\n",
    "for number in numbers_one:\n",
    "    for number_two in numbers_two:\n",
    "        result = number * number_two\n",
    "        if str(result) == str(result)[::-1]:\n",
    "            if result > pal:\n",
    "                pal = result\n",
    "\n",
    "print pal"
   ]
  }
 ],
 "metadata": {
  "kernelspec": {
   "display_name": "Python 2",
   "language": "python",
   "name": "python2"
  },
  "language_info": {
   "codemirror_mode": {
    "name": "ipython",
    "version": 2
   },
   "file_extension": ".py",
   "mimetype": "text/x-python",
   "name": "python",
   "nbconvert_exporter": "python",
   "pygments_lexer": "ipython2",
   "version": "2.7.13"
  }
 },
 "nbformat": 4,
 "nbformat_minor": 2
}
