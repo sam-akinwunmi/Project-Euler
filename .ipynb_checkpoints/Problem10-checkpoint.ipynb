{
 "cells": [
  {
   "cell_type": "code",
   "execution_count": null,
   "metadata": {
    "collapsed": false
   },
   "outputs": [],
   "source": [
    "import numpy as np\n",
    "\n",
    "summ = 0\n",
    "\n",
    "for i in range(2,2000001):\n",
    "    rangee = np.arange(2,i)\n",
    "    div_range = i % rangee\n",
    "    true_prime = 0\n",
    "    for div in div_range:\n",
    "        if div == 0:\n",
    "            true_prime = 1\n",
    "    if true_prime == 0:\n",
    "        summ += i\n",
    "        \n",
    "print summ"
   ]
  }
 ],
 "metadata": {
  "kernelspec": {
   "display_name": "Python 2",
   "language": "python",
   "name": "python2"
  },
  "language_info": {
   "codemirror_mode": {
    "name": "ipython",
    "version": 2
   },
   "file_extension": ".py",
   "mimetype": "text/x-python",
   "name": "python",
   "nbconvert_exporter": "python",
   "pygments_lexer": "ipython2",
   "version": "2.7.13"
  }
 },
 "nbformat": 4,
 "nbformat_minor": 2
}
