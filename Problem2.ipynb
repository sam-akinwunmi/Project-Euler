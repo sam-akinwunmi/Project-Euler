{
 "cells": [
  {
   "cell_type": "code",
   "execution_count": 22,
   "metadata": {
    "collapsed": false
   },
   "outputs": [
    {
     "name": "stdout",
     "output_type": "stream",
     "text": [
      "4613732\n"
     ]
    }
   ],
   "source": [
    "length = 50\n",
    "fib_seq = [1, 2]\n",
    "for i in range(2, length):\n",
    "    next_num = (fib_seq[-1] + fib_seq[-2])\n",
    "    if (next_num < 4000000):\n",
    "        fib_seq.append(next_num)\n",
    "    else:\n",
    "        break\n",
    "\n",
    "fib_sum = 0\n",
    "for i in fib_seq:\n",
    "    if i % 2 == 0:\n",
    "        fib_sum += i        \n",
    "print fib_sum"
   ]
  }
 ],
 "metadata": {
  "kernelspec": {
   "display_name": "Python 2",
   "language": "python",
   "name": "python2"
  },
  "language_info": {
   "codemirror_mode": {
    "name": "ipython",
    "version": 2
   },
   "file_extension": ".py",
   "mimetype": "text/x-python",
   "name": "python",
   "nbconvert_exporter": "python",
   "pygments_lexer": "ipython2",
   "version": "2.7.13"
  }
 },
 "nbformat": 4,
 "nbformat_minor": 2
}
